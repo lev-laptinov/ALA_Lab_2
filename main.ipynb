{
 "cells": [
  {
   "cell_type": "code",
   "execution_count": 37,
   "metadata": {},
   "outputs": [],
   "source": [
    "import numpy as np\n",
    "import sklearn as sk\n",
    "import matplotlib.pyplot as plt"
   ]
  },
  {
   "cell_type": "markdown",
   "metadata": {},
   "source": [
    "# Завдання 1"
   ]
  },
  {
   "cell_type": "code",
   "execution_count": 30,
   "metadata": {},
   "outputs": [],
   "source": [
    "def find_eigen(A: np.array):\n",
    "    eigenvalues, eigenvectors = np.linalg.eig(A)\n",
    "    mul_by_A = A@eigenvectors\n",
    "    mul_by_values = eigenvalues*eigenvectors\n",
    "    print(f\"A mulitiplied: {mul_by_A}\\n\")\n",
    "    print(f\"Eigenvalues multiplied: {mul_by_values}\")\n",
    "    return eigenvalues, eigenvectors\n",
    "\n"
   ]
  },
  {
   "cell_type": "code",
   "execution_count": 31,
   "metadata": {},
   "outputs": [
    {
     "name": "stdout",
     "output_type": "stream",
     "text": [
      "A mulitiplied: [[-2.44669817 -0.34757866  0.3380617 ]\n",
      " [-2.88823035  0.2944433  -1.69030851]\n",
      " [-5.33492852 -0.05313536  1.01418511]]\n",
      "\n",
      "Eigenvalues multiplied: [[-2.44669817 -0.34757866  0.3380617 ]\n",
      " [-2.88823035  0.2944433  -1.69030851]\n",
      " [-5.33492852 -0.05313536  1.01418511]]\n"
     ]
    },
    {
     "data": {
      "text/plain": [
       "(array([6.54138127, 0.45861873, 2.        ]),\n",
       " array([[-0.37403387, -0.75788151,  0.16903085],\n",
       "        [-0.44153218,  0.64202195, -0.84515425],\n",
       "        [-0.81556606, -0.11585955,  0.50709255]]))"
      ]
     },
     "execution_count": 31,
     "metadata": {},
     "output_type": "execute_result"
    }
   ],
   "source": [
    "A = np.array([\n",
    "    [1, 1, 2],\n",
    "    [2, 3, 1],\n",
    "    [1, 2, 5]\n",
    "])\n",
    "find_eigen(A)"
   ]
  },
  {
   "cell_type": "markdown",
   "metadata": {},
   "source": [
    "# Завдання 2"
   ]
  },
  {
   "cell_type": "code",
   "execution_count": null,
   "metadata": {},
   "outputs": [],
   "source": []
  },
  {
   "cell_type": "markdown",
   "metadata": {},
   "source": [
    "# Завдання 3"
   ]
  },
  {
   "cell_type": "code",
   "execution_count": 4,
   "metadata": {},
   "outputs": [],
   "source": [
    "def encrypt_message(message, key_matrix):\n",
    "    message_vector= np.array([ord(c) for c in message])\n",
    "    eigenvalues, eigenvectors = np.linalg.eig(key_matrix)\n",
    "    diagonalized_key_matrix = np.dot(np.dot(eigenvectors, np.diag(eigenvalues)), np.linalg.inv(eigenvectors))\n",
    "    encrypted_message = np.dot(diagonalized_key_matrix, message_vector)\n",
    "    return encrypted_message\n"
   ]
  },
  {
   "cell_type": "code",
   "execution_count": 38,
   "metadata": {},
   "outputs": [],
   "source": [
    "def decrypt_message(encrypted_message, key_matrix):\n",
    "    eigenvalues, eigenvectors = np.linalg.eig(key_matrix)\n",
    "    diagonalized_key_matrix = np.dot(np.dot(eigenvectors, np.diag(eigenvalues)), np.linalg.inv(eigenvectors))\n",
    "    decrypted = np.dot(np.linalg.inv(diagonalized_key_matrix), encrypted_message)\n",
    "    return ''.join([chr(int(round(i))) for i in decrypted])"
   ]
  },
  {
   "cell_type": "code",
   "execution_count": 40,
   "metadata": {},
   "outputs": [
    {
     "name": "stderr",
     "output_type": "stream",
     "text": [
      "/var/folders/lf/fvhfkttd0435xbx5h395j__m0000gr/T/ipykernel_22990/1928114319.py:5: DeprecationWarning: The Python built-in `round` is deprecated for complex scalars, and will raise a `TypeError` in a future release. Use `np.round` or `scalar.round` instead.\n",
      "  return ''.join([chr(int(round(i))) for i in decrypted])\n",
      "/var/folders/lf/fvhfkttd0435xbx5h395j__m0000gr/T/ipykernel_22990/1928114319.py:5: ComplexWarning: Casting complex values to real discards the imaginary part\n",
      "  return ''.join([chr(int(round(i))) for i in decrypted])\n"
     ]
    },
    {
     "data": {
      "text/plain": [
       "('Hello, world!',\n",
       " array([157530.-1.24465118e-11j, 148473.-2.06800917e-11j,\n",
       "        146101.+1.89753984e-11j, 196015.-3.47031972e-11j,\n",
       "        165683.-1.18889938e-11j, 129227.-1.96720227e-11j,\n",
       "        134071.-9.52530366e-12j, 126711.-4.60887965e-12j,\n",
       "        108463.-1.86018056e-11j, 202275.-1.00449728e-11j,\n",
       "        179814.-1.65490259e-12j, 151938.-2.14379713e-11j,\n",
       "        124301.-5.78115769e-12j]),\n",
       " 'Hello, world!')"
      ]
     },
     "execution_count": 40,
     "metadata": {},
     "output_type": "execute_result"
    }
   ],
   "source": [
    "message = \"Hello, world!\"\n",
    "key_matrix = np.random.randint(0, 256, (len(message), len(message)))\n",
    "enc_message = encrypt_message(message, key_matrix)\n",
    "dec_message= decrypt_message(enc_message, key_matrix)\n",
    "message, enc_message, dec_message"
   ]
  }
 ],
 "metadata": {
  "kernelspec": {
   "display_name": "Python 3",
   "language": "python",
   "name": "python3"
  },
  "language_info": {
   "codemirror_mode": {
    "name": "ipython",
    "version": 3
   },
   "file_extension": ".py",
   "mimetype": "text/x-python",
   "name": "python",
   "nbconvert_exporter": "python",
   "pygments_lexer": "ipython3",
   "version": "3.11.5"
  }
 },
 "nbformat": 4,
 "nbformat_minor": 2
}
